{
 "cells": [
  {
   "cell_type": "code",
   "execution_count": 4,
   "metadata": {
    "collapsed": true
   },
   "outputs": [],
   "source": [
    "import pandas as pd\n",
    "from xgboost import XGBClassifier\n",
    "import matplotlib.pyplot as plt\n",
    "%matplotlib inline"
   ]
  },
  {
   "cell_type": "markdown",
   "metadata": {},
   "source": [
    "XGBoost stands for eXtreme Gradient Boosting\n",
    "XGBRegressor for regression problem"
   ]
  },
  {
   "cell_type": "markdown",
   "metadata": {},
   "source": [
    "We'll deal with Titanic dataset again, this time with XGBClassifier"
   ]
  },
  {
   "cell_type": "code",
   "execution_count": 5,
   "metadata": {},
   "outputs": [
    {
     "data": {
      "text/html": [
       "<div>\n",
       "<style>\n",
       "    .dataframe thead tr:only-child th {\n",
       "        text-align: right;\n",
       "    }\n",
       "\n",
       "    .dataframe thead th {\n",
       "        text-align: left;\n",
       "    }\n",
       "\n",
       "    .dataframe tbody tr th {\n",
       "        vertical-align: top;\n",
       "    }\n",
       "</style>\n",
       "<table border=\"1\" class=\"dataframe\">\n",
       "  <thead>\n",
       "    <tr style=\"text-align: right;\">\n",
       "      <th></th>\n",
       "      <th>PassengerId</th>\n",
       "      <th>Survived</th>\n",
       "      <th>Pclass</th>\n",
       "      <th>Name</th>\n",
       "      <th>Sex</th>\n",
       "      <th>Age</th>\n",
       "      <th>SibSp</th>\n",
       "      <th>Parch</th>\n",
       "      <th>Ticket</th>\n",
       "      <th>Fare</th>\n",
       "      <th>Cabin</th>\n",
       "      <th>Embarked</th>\n",
       "    </tr>\n",
       "  </thead>\n",
       "  <tbody>\n",
       "    <tr>\n",
       "      <th>0</th>\n",
       "      <td>1</td>\n",
       "      <td>0</td>\n",
       "      <td>3</td>\n",
       "      <td>Braund, Mr. Owen Harris</td>\n",
       "      <td>male</td>\n",
       "      <td>22.0</td>\n",
       "      <td>1</td>\n",
       "      <td>0</td>\n",
       "      <td>A/5 21171</td>\n",
       "      <td>7.2500</td>\n",
       "      <td>NaN</td>\n",
       "      <td>S</td>\n",
       "    </tr>\n",
       "    <tr>\n",
       "      <th>1</th>\n",
       "      <td>2</td>\n",
       "      <td>1</td>\n",
       "      <td>1</td>\n",
       "      <td>Cumings, Mrs. John Bradley (Florence Briggs Th...</td>\n",
       "      <td>female</td>\n",
       "      <td>38.0</td>\n",
       "      <td>1</td>\n",
       "      <td>0</td>\n",
       "      <td>PC 17599</td>\n",
       "      <td>71.2833</td>\n",
       "      <td>C85</td>\n",
       "      <td>C</td>\n",
       "    </tr>\n",
       "    <tr>\n",
       "      <th>2</th>\n",
       "      <td>3</td>\n",
       "      <td>1</td>\n",
       "      <td>3</td>\n",
       "      <td>Heikkinen, Miss. Laina</td>\n",
       "      <td>female</td>\n",
       "      <td>26.0</td>\n",
       "      <td>0</td>\n",
       "      <td>0</td>\n",
       "      <td>STON/O2. 3101282</td>\n",
       "      <td>7.9250</td>\n",
       "      <td>NaN</td>\n",
       "      <td>S</td>\n",
       "    </tr>\n",
       "    <tr>\n",
       "      <th>3</th>\n",
       "      <td>4</td>\n",
       "      <td>1</td>\n",
       "      <td>1</td>\n",
       "      <td>Futrelle, Mrs. Jacques Heath (Lily May Peel)</td>\n",
       "      <td>female</td>\n",
       "      <td>35.0</td>\n",
       "      <td>1</td>\n",
       "      <td>0</td>\n",
       "      <td>113803</td>\n",
       "      <td>53.1000</td>\n",
       "      <td>C123</td>\n",
       "      <td>S</td>\n",
       "    </tr>\n",
       "    <tr>\n",
       "      <th>4</th>\n",
       "      <td>5</td>\n",
       "      <td>0</td>\n",
       "      <td>3</td>\n",
       "      <td>Allen, Mr. William Henry</td>\n",
       "      <td>male</td>\n",
       "      <td>35.0</td>\n",
       "      <td>0</td>\n",
       "      <td>0</td>\n",
       "      <td>373450</td>\n",
       "      <td>8.0500</td>\n",
       "      <td>NaN</td>\n",
       "      <td>S</td>\n",
       "    </tr>\n",
       "    <tr>\n",
       "      <th>5</th>\n",
       "      <td>6</td>\n",
       "      <td>0</td>\n",
       "      <td>3</td>\n",
       "      <td>Moran, Mr. James</td>\n",
       "      <td>male</td>\n",
       "      <td>NaN</td>\n",
       "      <td>0</td>\n",
       "      <td>0</td>\n",
       "      <td>330877</td>\n",
       "      <td>8.4583</td>\n",
       "      <td>NaN</td>\n",
       "      <td>Q</td>\n",
       "    </tr>\n",
       "    <tr>\n",
       "      <th>6</th>\n",
       "      <td>7</td>\n",
       "      <td>0</td>\n",
       "      <td>1</td>\n",
       "      <td>McCarthy, Mr. Timothy J</td>\n",
       "      <td>male</td>\n",
       "      <td>54.0</td>\n",
       "      <td>0</td>\n",
       "      <td>0</td>\n",
       "      <td>17463</td>\n",
       "      <td>51.8625</td>\n",
       "      <td>E46</td>\n",
       "      <td>S</td>\n",
       "    </tr>\n",
       "    <tr>\n",
       "      <th>7</th>\n",
       "      <td>8</td>\n",
       "      <td>0</td>\n",
       "      <td>3</td>\n",
       "      <td>Palsson, Master. Gosta Leonard</td>\n",
       "      <td>male</td>\n",
       "      <td>2.0</td>\n",
       "      <td>3</td>\n",
       "      <td>1</td>\n",
       "      <td>349909</td>\n",
       "      <td>21.0750</td>\n",
       "      <td>NaN</td>\n",
       "      <td>S</td>\n",
       "    </tr>\n",
       "    <tr>\n",
       "      <th>8</th>\n",
       "      <td>9</td>\n",
       "      <td>1</td>\n",
       "      <td>3</td>\n",
       "      <td>Johnson, Mrs. Oscar W (Elisabeth Vilhelmina Berg)</td>\n",
       "      <td>female</td>\n",
       "      <td>27.0</td>\n",
       "      <td>0</td>\n",
       "      <td>2</td>\n",
       "      <td>347742</td>\n",
       "      <td>11.1333</td>\n",
       "      <td>NaN</td>\n",
       "      <td>S</td>\n",
       "    </tr>\n",
       "    <tr>\n",
       "      <th>9</th>\n",
       "      <td>10</td>\n",
       "      <td>1</td>\n",
       "      <td>2</td>\n",
       "      <td>Nasser, Mrs. Nicholas (Adele Achem)</td>\n",
       "      <td>female</td>\n",
       "      <td>14.0</td>\n",
       "      <td>1</td>\n",
       "      <td>0</td>\n",
       "      <td>237736</td>\n",
       "      <td>30.0708</td>\n",
       "      <td>NaN</td>\n",
       "      <td>C</td>\n",
       "    </tr>\n",
       "  </tbody>\n",
       "</table>\n",
       "</div>"
      ],
      "text/plain": [
       "   PassengerId  Survived  Pclass  \\\n",
       "0            1         0       3   \n",
       "1            2         1       1   \n",
       "2            3         1       3   \n",
       "3            4         1       1   \n",
       "4            5         0       3   \n",
       "5            6         0       3   \n",
       "6            7         0       1   \n",
       "7            8         0       3   \n",
       "8            9         1       3   \n",
       "9           10         1       2   \n",
       "\n",
       "                                                Name     Sex   Age  SibSp  \\\n",
       "0                            Braund, Mr. Owen Harris    male  22.0      1   \n",
       "1  Cumings, Mrs. John Bradley (Florence Briggs Th...  female  38.0      1   \n",
       "2                             Heikkinen, Miss. Laina  female  26.0      0   \n",
       "3       Futrelle, Mrs. Jacques Heath (Lily May Peel)  female  35.0      1   \n",
       "4                           Allen, Mr. William Henry    male  35.0      0   \n",
       "5                                   Moran, Mr. James    male   NaN      0   \n",
       "6                            McCarthy, Mr. Timothy J    male  54.0      0   \n",
       "7                     Palsson, Master. Gosta Leonard    male   2.0      3   \n",
       "8  Johnson, Mrs. Oscar W (Elisabeth Vilhelmina Berg)  female  27.0      0   \n",
       "9                Nasser, Mrs. Nicholas (Adele Achem)  female  14.0      1   \n",
       "\n",
       "   Parch            Ticket     Fare Cabin Embarked  \n",
       "0      0         A/5 21171   7.2500   NaN        S  \n",
       "1      0          PC 17599  71.2833   C85        C  \n",
       "2      0  STON/O2. 3101282   7.9250   NaN        S  \n",
       "3      0            113803  53.1000  C123        S  \n",
       "4      0            373450   8.0500   NaN        S  \n",
       "5      0            330877   8.4583   NaN        Q  \n",
       "6      0             17463  51.8625   E46        S  \n",
       "7      1            349909  21.0750   NaN        S  \n",
       "8      2            347742  11.1333   NaN        S  \n",
       "9      0            237736  30.0708   NaN        C  "
      ]
     },
     "execution_count": 5,
     "metadata": {},
     "output_type": "execute_result"
    }
   ],
   "source": [
    "# read in the data\n",
    "url = 'https://raw.githubusercontent.com/justmarkham/DAT8/master/data/titanic.csv'\n",
    "titanic = pd.read_csv(url)\n",
    "titanic.head(10)\n"
   ]
  },
  {
   "cell_type": "markdown",
   "metadata": {},
   "source": [
    "- Survived: 0=died, 1=survived (response variable)\n",
    "- Pclass: 1=first class, 2=second class, 3=third class\n",
    "- Sex: female, male\n",
    "- Age: numeric value\n",
    "- Embarked: C = Cherbourg, Q = Queenstown, S = Southampton\n",
    "- Fare: numeric value\n",
    "- SibSp: numer of siblings on board\n",
    "- Parch: number of parents on board"
   ]
  },
  {
   "cell_type": "code",
   "execution_count": 6,
   "metadata": {},
   "outputs": [
    {
     "name": "stdout",
     "output_type": "stream",
     "text": [
      "<class 'pandas.core.frame.DataFrame'>\n",
      "RangeIndex: 891 entries, 0 to 890\n",
      "Data columns (total 12 columns):\n",
      "PassengerId    891 non-null int64\n",
      "Survived       891 non-null int64\n",
      "Pclass         891 non-null int64\n",
      "Name           891 non-null object\n",
      "Sex            891 non-null object\n",
      "Age            714 non-null float64\n",
      "SibSp          891 non-null int64\n",
      "Parch          891 non-null int64\n",
      "Ticket         891 non-null object\n",
      "Fare           891 non-null float64\n",
      "Cabin          204 non-null object\n",
      "Embarked       889 non-null object\n",
      "dtypes: float64(2), int64(5), object(5)\n",
      "memory usage: 83.6+ KB\n"
     ]
    }
   ],
   "source": [
    "titanic.info()"
   ]
  },
  {
   "cell_type": "markdown",
   "metadata": {},
   "source": [
    "## drop Name, Ticket and Cabin Columns"
   ]
  },
  {
   "cell_type": "code",
   "execution_count": 7,
   "metadata": {
    "collapsed": true
   },
   "outputs": [],
   "source": [
    "titanic.drop(['PassengerId', 'Name', 'Ticket', 'Cabin'], axis=1, inplace=True)"
   ]
  },
  {
   "cell_type": "markdown",
   "metadata": {},
   "source": [
    "# We dont need to fill missing data\n",
    "## Numeric encoding for Sex\n",
    "## Creat dummy variables for Embarked"
   ]
  },
  {
   "cell_type": "code",
   "execution_count": 8,
   "metadata": {},
   "outputs": [
    {
     "data": {
      "text/html": [
       "<div>\n",
       "<style>\n",
       "    .dataframe thead tr:only-child th {\n",
       "        text-align: right;\n",
       "    }\n",
       "\n",
       "    .dataframe thead th {\n",
       "        text-align: left;\n",
       "    }\n",
       "\n",
       "    .dataframe tbody tr th {\n",
       "        vertical-align: top;\n",
       "    }\n",
       "</style>\n",
       "<table border=\"1\" class=\"dataframe\">\n",
       "  <thead>\n",
       "    <tr style=\"text-align: right;\">\n",
       "      <th></th>\n",
       "      <th>Survived</th>\n",
       "      <th>Pclass</th>\n",
       "      <th>Sex</th>\n",
       "      <th>Age</th>\n",
       "      <th>SibSp</th>\n",
       "      <th>Parch</th>\n",
       "      <th>Fare</th>\n",
       "      <th>Embarked_Q</th>\n",
       "      <th>Embarked_S</th>\n",
       "    </tr>\n",
       "  </thead>\n",
       "  <tbody>\n",
       "    <tr>\n",
       "      <th>0</th>\n",
       "      <td>0</td>\n",
       "      <td>3</td>\n",
       "      <td>1</td>\n",
       "      <td>22.0</td>\n",
       "      <td>1</td>\n",
       "      <td>0</td>\n",
       "      <td>7.2500</td>\n",
       "      <td>0</td>\n",
       "      <td>1</td>\n",
       "    </tr>\n",
       "    <tr>\n",
       "      <th>1</th>\n",
       "      <td>1</td>\n",
       "      <td>1</td>\n",
       "      <td>0</td>\n",
       "      <td>38.0</td>\n",
       "      <td>1</td>\n",
       "      <td>0</td>\n",
       "      <td>71.2833</td>\n",
       "      <td>0</td>\n",
       "      <td>0</td>\n",
       "    </tr>\n",
       "    <tr>\n",
       "      <th>2</th>\n",
       "      <td>1</td>\n",
       "      <td>3</td>\n",
       "      <td>0</td>\n",
       "      <td>26.0</td>\n",
       "      <td>0</td>\n",
       "      <td>0</td>\n",
       "      <td>7.9250</td>\n",
       "      <td>0</td>\n",
       "      <td>1</td>\n",
       "    </tr>\n",
       "    <tr>\n",
       "      <th>3</th>\n",
       "      <td>1</td>\n",
       "      <td>1</td>\n",
       "      <td>0</td>\n",
       "      <td>35.0</td>\n",
       "      <td>1</td>\n",
       "      <td>0</td>\n",
       "      <td>53.1000</td>\n",
       "      <td>0</td>\n",
       "      <td>1</td>\n",
       "    </tr>\n",
       "    <tr>\n",
       "      <th>4</th>\n",
       "      <td>0</td>\n",
       "      <td>3</td>\n",
       "      <td>1</td>\n",
       "      <td>35.0</td>\n",
       "      <td>0</td>\n",
       "      <td>0</td>\n",
       "      <td>8.0500</td>\n",
       "      <td>0</td>\n",
       "      <td>1</td>\n",
       "    </tr>\n",
       "    <tr>\n",
       "      <th>5</th>\n",
       "      <td>0</td>\n",
       "      <td>3</td>\n",
       "      <td>1</td>\n",
       "      <td>NaN</td>\n",
       "      <td>0</td>\n",
       "      <td>0</td>\n",
       "      <td>8.4583</td>\n",
       "      <td>1</td>\n",
       "      <td>0</td>\n",
       "    </tr>\n",
       "  </tbody>\n",
       "</table>\n",
       "</div>"
      ],
      "text/plain": [
       "   Survived  Pclass  Sex   Age  SibSp  Parch     Fare  Embarked_Q  Embarked_S\n",
       "0         0       3    1  22.0      1      0   7.2500           0           1\n",
       "1         1       1    0  38.0      1      0  71.2833           0           0\n",
       "2         1       3    0  26.0      0      0   7.9250           0           1\n",
       "3         1       1    0  35.0      1      0  53.1000           0           1\n",
       "4         0       3    1  35.0      0      0   8.0500           0           1\n",
       "5         0       3    1   NaN      0      0   8.4583           1           0"
      ]
     },
     "execution_count": 8,
     "metadata": {},
     "output_type": "execute_result"
    }
   ],
   "source": [
    "titanic['Sex'] = titanic.Sex.map({'female':0, 'male':1})\n",
    "titanic = pd.get_dummies(titanic, drop_first=True)\n",
    "titanic.head(6)"
   ]
  },
  {
   "cell_type": "code",
   "execution_count": 9,
   "metadata": {
    "collapsed": true
   },
   "outputs": [],
   "source": [
    "data = titanic.copy()\n",
    "y = data['Survived']\n",
    "X = data.drop('Survived', axis=1)"
   ]
  },
  {
   "cell_type": "markdown",
   "metadata": {},
   "source": [
    "# Check the survived ratio\n"
   ]
  },
  {
   "cell_type": "code",
   "execution_count": 10,
   "metadata": {},
   "outputs": [
    {
     "data": {
      "text/plain": [
       "38.38383838383838"
      ]
     },
     "execution_count": 10,
     "metadata": {},
     "output_type": "execute_result"
    }
   ],
   "source": [
    "100.0 * sum(y > 0) / len(y)"
   ]
  },
  {
   "cell_type": "markdown",
   "metadata": {},
   "source": [
    "# Train the classifier"
   ]
  },
  {
   "cell_type": "code",
   "execution_count": 11,
   "metadata": {},
   "outputs": [
    {
     "data": {
      "text/plain": [
       "XGBClassifier(base_score=0.5, colsample_bylevel=1, colsample_bytree=1,\n",
       "       gamma=0, learning_rate=0.1, max_delta_step=0, max_depth=3,\n",
       "       min_child_weight=1, missing=None, n_estimators=100, nthread=-1,\n",
       "       objective='binary:logistic', reg_alpha=0, reg_lambda=1,\n",
       "       scale_pos_weight=1, seed=0, silent=True, subsample=1)"
      ]
     },
     "execution_count": 11,
     "metadata": {},
     "output_type": "execute_result"
    }
   ],
   "source": [
    "model = XGBClassifier()\n",
    "model.fit(X, y)"
   ]
  },
  {
   "cell_type": "markdown",
   "metadata": {},
   "source": [
    "# Evaluate"
   ]
  },
  {
   "cell_type": "code",
   "execution_count": 12,
   "metadata": {
    "scrolled": true
   },
   "outputs": [
    {
     "name": "stdout",
     "output_type": "stream",
     "text": [
      "Accuracy: 88.10%\n",
      "Average precision-recall score: 0.78\n",
      "AUC: 0.861566\n"
     ]
    }
   ],
   "source": [
    "from sklearn.metrics import accuracy_score\n",
    "from sklearn.metrics import precision_recall_fscore_support\n",
    "\n",
    "# make predictions for data and evaluate\n",
    "y_pred = model.predict(X)\n",
    "accuracy = accuracy_score(y, y_pred)\n",
    "print(\"Accuracy: %.2f%%\" % (accuracy * 100.0))\n",
    "\n",
    "from sklearn.metrics import average_precision_score\n",
    "average_precision = average_precision_score(y, y_pred)\n",
    "\n",
    "print('Average precision-recall score: {0:0.2f}'.format(\n",
    "      average_precision))\n",
    "\n",
    "from sklearn.metrics import roc_auc_score\n",
    "print('AUC: %f' % roc_auc_score(y, y_pred))"
   ]
  },
  {
   "cell_type": "code",
   "execution_count": 13,
   "metadata": {},
   "outputs": [
    {
     "name": "stdout",
     "output_type": "stream",
     "text": [
      "[[519  30]\n",
      " [ 76 266]]\n",
      "Precision: 0.898649\n",
      "Recal: 0.777778\n"
     ]
    }
   ],
   "source": [
    "from sklearn.metrics import confusion_matrix\n",
    "print(confusion_matrix(y, y_pred))\n",
    "tn, fp, fn, tp = confusion_matrix(y, y_pred).ravel()\n",
    "print('Precision: %f' % (float(tp)/(tp + fp)))\n",
    "print('Recal: %f' % (float(tp)/(tp + fn)))\n"
   ]
  },
  {
   "cell_type": "code",
   "execution_count": 14,
   "metadata": {
    "scrolled": true
   },
   "outputs": [
    {
     "data": {
      "text/plain": [
       "<matplotlib.legend.Legend at 0xc7f8390>"
      ]
     },
     "execution_count": 14,
     "metadata": {},
     "output_type": "execute_result"
    },
    {
     "data": {
      "image/png": "[encoded data removed]",
      "text/plain": [
       "<matplotlib.figure.Figure at 0xc1d0278>"
      ]
     },
     "metadata": {},
     "output_type": "display_data"
    }
   ],
   "source": [
    "import numpy as np\n",
    "p_range = np.arange(0.1, 1, 0.1) \n",
    "p_range\n",
    "precisions = []\n",
    "recalls = []\n",
    "f1s = []\n",
    "xgb = XGBClassifier()\n",
    "xgb.fit(X, y)\n",
    "\n",
    "pred = xgb.predict_proba(X)\n",
    "for p in p_range:\n",
    "\n",
    "    pred_tmp = pred[:, 1].copy()\n",
    "    pred_tmp[pred_tmp > p] = 1\n",
    "    pred_tmp[pred_tmp <= p] = 0\n",
    "    tn, fp, fn, tp = confusion_matrix(y, pred_tmp).ravel()\n",
    "    prec = (float(tp)/(tp + fp))\n",
    "    rec = (float(tp)/(tp + fn))\n",
    "    f1 = 2 * prec * rec / (prec + rec)\n",
    "    precisions.append(prec)\n",
    "    recalls.append(rec)\n",
    "    f1s.append(f1)\n",
    "\n",
    "# plot the results\n",
    "plt.plot(p_range, precisions, 'k', label='Precision')\n",
    "plt.plot(p_range, recalls, 'g', label='Recall')\n",
    "plt.plot(p_range, f1s, 'b', label='F1')\n",
    "plt.xlabel('P Range')\n",
    "plt.ylabel('Score')\n",
    "plt.grid(True)\n",
    "plt.legend(bbox_to_anchor=(1.05, 1))\n"
   ]
  },
  {
   "cell_type": "code",
   "execution_count": 29,
   "metadata": {},
   "outputs": [
    {
     "name": "stdout",
     "output_type": "stream",
     "text": [
      "[0 1]\n",
      "[[ 0.91553313  0.08446688]\n",
      " [ 0.03152668  0.96847332]\n",
      " [ 0.46788728  0.53211272]\n",
      " ..., \n",
      " [ 0.73611706  0.26388294]\n",
      " [ 0.38842279  0.61157721]\n",
      " [ 0.91598344  0.08401659]]\n",
      "[ 0.08446688  0.96847332  0.53211272  0.98527491  0.15787522  0.16632007\n",
      "  0.14290567  0.08824389  0.46681929  0.95885473  0.86967748  0.91305578\n",
      "  0.10761324  0.19019388  0.54471612  0.88693261  0.0787899   0.11336682\n",
      "  0.49903804  0.75275445  0.19788387  0.15787522  0.74247843  0.4263297\n",
      "  0.22604081  0.24700023  0.12030994  0.1933165   0.73857647  0.07799985\n",
      "  0.23972034  0.91580039  0.73857647  0.0811291   0.51662654  0.2688404\n",
      "  0.12030994  0.10761324  0.39128643  0.6638748   0.24773745  0.86873132\n",
      "  0.12095872  0.96707505  0.7519865   0.11336682  0.18328731  0.73857647\n",
      "  0.17754753  0.39128643  0.04278059  0.10141615  0.97415888  0.86533511\n",
      "  0.21021913  0.29135376  0.88935578  0.19782178  0.96890569  0.02388147\n",
      "  0.21711239  0.96648681  0.25042772  0.1359541   0.36208457  0.18959503\n",
      "  0.89486969  0.11258143  0.52943945  0.10532805  0.18193847  0.0952113\n",
      "  0.16031004  0.17174549  0.52957326  0.12311687  0.07799985  0.11336682\n",
      "  0.94115216  0.46681929  0.10761324  0.13708591  0.73857647  0.32200673\n",
      "  0.89424866  0.63068289  0.14087653  0.11336682  0.8906635   0.10761324\n",
      "  0.13708591  0.10141615  0.22699079  0.10997469  0.04913991  0.11336682\n",
      "  0.20019123  0.49040392  0.94583887  0.16220091  0.54634857  0.07799985\n",
      "  0.34643188  0.15787522  0.1045215   0.1294377   0.53211272  0.07799985\n",
      "  0.05060055  0.50100189  0.18065554  0.45727465  0.10761324  0.39350861\n",
      "  0.47205788  0.14068024  0.0353723   0.11570982  0.25893146  0.07894853\n",
      "  0.12577792  0.11336682  0.20504062  0.91359138  0.1887798   0.56696844\n",
      "  0.1166059   0.13564247  0.72208595  0.04877645  0.05390836  0.06341695\n",
      "  0.10166683  0.86533511  0.13044755  0.15030381  0.93125683  0.54264861\n",
      "  0.11258143  0.46211851  0.57001597  0.53211272  0.44722813  0.0707166\n",
      "  0.11258143  0.14087653  0.1294377   0.16178104  0.08530466  0.10398461\n",
      "  0.08444969  0.93746477  0.09254594  0.07521835  0.07508101  0.29190305\n",
      "  0.74247843  0.13708591  0.11336682  0.04924186  0.07950313  0.89061499\n",
      "  0.12311687  0.11258143  0.12608756  0.73148298  0.97706336  0.08175404\n",
      "  0.20526491  0.38375515  0.19850145  0.20601691  0.81772232  0.14068024\n",
      "  0.2684226   0.09186015  0.03996755  0.81797892  0.13708591  0.05037493\n",
      "  0.09872211  0.14721638  0.07425477  0.89564264  0.86424613  0.2080794\n",
      "  0.76582122  0.38339975  0.06531458  0.08596943  0.92257905  0.11258143\n",
      "  0.50477105  0.96812391  0.8405962   0.96862096  0.1166059   0.10398461\n",
      "  0.73857647  0.88935578  0.13708591  0.04924186  0.05502366  0.03284974\n",
      "  0.11258143  0.63400376  0.18909185  0.21767971  0.74247843  0.49219185\n",
      "  0.06341695  0.94583887  0.0977139   0.13708591  0.11062177  0.9698326\n",
      "  0.54634857  0.15442553  0.97074801  0.13708591  0.11258143  0.13708591\n",
      "  0.0928365   0.07799985  0.52600825  0.10761324  0.11258143  0.0977139\n",
      "  0.11258143  0.11119176  0.97220176  0.1294377   0.08418293  0.29724509\n",
      "  0.10761324  0.53751099  0.06258191  0.93508083  0.11258143  0.15787522\n",
      "  0.46483049  0.76582122  0.13708591  0.06341695  0.09696024  0.34558392\n",
      "  0.53211272  0.78295398  0.54264861  0.05923109  0.07508101  0.40726399\n",
      "  0.2868138   0.11425532  0.35065737  0.53961653  0.96757495  0.97723365\n",
      "  0.98046905  0.86196393  0.1166059   0.22680596  0.27509767  0.09092607\n",
      "  0.73857647  0.15787522  0.06892869  0.1068337   0.94641149  0.98361373\n",
      "  0.32045326  0.10147652  0.87671781  0.24915227  0.73857647  0.94909686\n",
      "  0.33844984  0.0284232   0.08524069  0.5850023   0.0353723   0.1294377\n",
      "  0.11258143  0.11258143  0.20526491  0.10199013  0.13708591  0.10141615\n",
      "  0.10398461  0.74240744  0.9493534   0.97323167  0.10199013  0.45258829\n",
      "  0.10141615  0.36208457  0.21711239  0.62827015  0.36269796  0.94633323\n",
      "  0.73857647  0.17155577  0.0494862   0.92330658  0.11336682  0.79510981\n",
      "  0.97275913  0.97188842  0.09978333  0.9780829   0.96813464  0.93333888\n",
      "  0.85851717  0.1294377   0.07349802  0.53211272  0.85851717  0.06964244\n",
      "  0.94890308  0.97351778  0.0977139   0.1294377   0.86081398  0.90537137\n",
      "  0.04924186  0.9832812   0.03091852  0.91359138  0.49903804  0.98222947\n",
      "  0.72208595  0.23398815  0.41770527  0.09035173  0.9746874   0.07799985\n",
      "  0.35834095  0.9718399   0.09812842  0.29447266  0.88613802  0.87741888\n",
      "  0.13708591  0.13044755  0.15787522  0.88935578  0.84677321  0.53866571\n",
      "  0.97051406  0.10398461  0.10761324  0.29135376  0.20724095  0.10997469\n",
      "  0.12030994  0.13708591  0.97287208  0.83687037  0.73857647  0.73857647\n",
      "  0.10447221  0.29142109  0.16649717  0.06930116  0.18328731  0.12485465\n",
      "  0.95064342  0.75275445  0.73857647  0.96813464  0.71190417  0.04731826\n",
      "  0.11258143  0.25087178  0.48451865  0.96757495  0.54195547  0.24102251\n",
      "  0.06785644  0.10613226  0.96406054  0.92295128  0.23190857  0.96300751\n",
      "  0.07799985  0.16031004  0.10238987  0.91359138  0.1166059   0.93425339\n",
      "  0.67326891  0.10141615  0.15521599  0.97323167  0.5076226   0.10141615\n",
      "  0.57199025  0.06257565  0.10761324  0.89486969  0.12860878  0.13044755\n",
      "  0.39350861  0.11425532  0.45258829  0.16624422  0.05127379  0.96812391\n",
      "  0.10141615  0.11119176  0.07799985  0.03971577  0.98086977  0.0284232\n",
      "  0.12870131  0.46823794  0.95877588  0.89424866  0.13708591  0.24042277\n",
      "  0.12095872  0.16540441  0.1294377   0.23568198  0.09035173  0.07508101\n",
      "  0.86533511  0.88548166  0.1166059   0.18193847  0.53205192  0.53866571\n",
      "  0.86518866  0.06649677  0.41365683  0.97007519  0.16178104  0.86205781\n",
      "  0.23195776  0.18862844  0.84502     0.10761324  0.1068337   0.89486969\n",
      "  0.11336682  0.93044722  0.8884353   0.65987283  0.92274427  0.38710505\n",
      "  0.23824948  0.09953126  0.33781752  0.48582962  0.11336682  0.19879396\n",
      "  0.23320626  0.92984664  0.83876276  0.1166059   0.51626426  0.15787522\n",
      "  0.20934749  0.12910374  0.11336682  0.03701745  0.0284232   0.25363871\n",
      "  0.1166059   0.90491819  0.07508101  0.0833791   0.92391878  0.93423063\n",
      "  0.45258829  0.21678616  0.16624422  0.09616067  0.0977139   0.63400376\n",
      "  0.0341287   0.0284232   0.0928365   0.33245063  0.56121248  0.11119176\n",
      "  0.98694998  0.13812362  0.13708591  0.69850719  0.09953126  0.0977139\n",
      "  0.29095089  0.14685214  0.10761324  0.14721638  0.95992666  0.09594989\n",
      "  0.79846811  0.10141615  0.11258143  0.74240744  0.73052394  0.34541124\n",
      "  0.97592336  0.49434823  0.94430971  0.38613385  0.14290974  0.37029773\n",
      "  0.1977834   0.11336682  0.65987283  0.97357982  0.0977139   0.24671012\n",
      "  0.91359138  0.17585786  0.93010336  0.1363181   0.97723365  0.10141615\n",
      "  0.12030994  0.97527742  0.12030994  0.04007002  0.83876276  0.15600219\n",
      "  0.12860878  0.08645371  0.86064476  0.12030994  0.20724095  0.73385423\n",
      "  0.46681929  0.93508083  0.38339975  0.96541369  0.09594989  0.9554922\n",
      "  0.97764403  0.08717204  0.08717204  0.18677723  0.36846691  0.11101552\n",
      "  0.85851717  0.17216697  0.16624422  0.6580323   0.49434823  0.1393391\n",
      "  0.1166059   0.21711239  0.53211272  0.2868138   0.96381718  0.2052792\n",
      "  0.95709962  0.61743426  0.1166059   0.05429608  0.13708591  0.11336682\n",
      "  0.46823794  0.08795951  0.10613226  0.43426588  0.12030994  0.1363181\n",
      "  0.09810723  0.9155702   0.65987283  0.73857647  0.11258143  0.09098957\n",
      "  0.91359138  0.977108    0.46483049  0.23190857  0.92031622  0.97351778\n",
      "  0.07426959  0.44259068  0.17216697  0.9493534   0.05863091  0.24963158\n",
      "  0.10761324  0.11336682  0.06930116  0.95881027  0.04147005  0.73857647\n",
      "  0.06819632  0.16220091  0.95133114  0.04893561  0.12030994  0.64608377\n",
      "  0.86626619  0.07799985  0.2080794   0.09812842  0.51876593  0.13775556\n",
      "  0.1294377   0.50707531  0.93959236  0.96056694  0.18694228  0.03522321\n",
      "  0.76582122  0.1166059   0.15787522  0.92076033  0.10882996  0.42394996\n",
      "  0.956276    0.13044755  0.17174549  0.54264861  0.18593961  0.10141615\n",
      "  0.12062028  0.19850145  0.06146611  0.9493534   0.12311687  0.1166059\n",
      "  0.27864352  0.03933103  0.61760914  0.04922689  0.07330952  0.89486969\n",
      "  0.23190857  0.16560702  0.1318516   0.10697351  0.10141615  0.96813464\n",
      "  0.06629877  0.36930469  0.90491819  0.44121063  0.10613226  0.21089475\n",
      "  0.07508101  0.5218181   0.07799985  0.8884353   0.10761324  0.73857647\n",
      "  0.51028275  0.12577792  0.07799985  0.54432452  0.10761324  0.27206281\n",
      "  0.45074156  0.04145696  0.16690342  0.08277913  0.12239845  0.25519451\n",
      "  0.13044755  0.07799985  0.09812842  0.92984664  0.92304409  0.35595948\n",
      "  0.0811291   0.18862844  0.0284232   0.10613226  0.10761324  0.46518084\n",
      "  0.08017848  0.6687119   0.67254907  0.51662654  0.10761324  0.03449599\n",
      "  0.09533643  0.21668698  0.04084614  0.11258143  0.10613226  0.8493526\n",
      "  0.64074045  0.92691702  0.36930469  0.21282674  0.25363871  0.08444969\n",
      "  0.09812842  0.73857647  0.48582962  0.06366812  0.91262388  0.65987283\n",
      "  0.47205788  0.1977834   0.1068337   0.09129103  0.84688026  0.48852226\n",
      "  0.86665118  0.18959503  0.9554922   0.38613385  0.29120997  0.13708591\n",
      "  0.08444969  0.10613226  0.96406054  0.89486969  0.19235216  0.08596943\n",
      "  0.96730518  0.06049001  0.15787522  0.08444969  0.56354123  0.10761324\n",
      "  0.86897224  0.73857647  0.10712411  0.49209282  0.93153852  0.56697524\n",
      "  0.0284232   0.10761324  0.10761324  0.14116788  0.1965352   0.6687119\n",
      "  0.07799985  0.07799985  0.36269796  0.48794511  0.93640375  0.09718167\n",
      "  0.23989712  0.16511701  0.09035173  0.89486969  0.49497497  0.090345\n",
      "  0.96016169  0.93295211  0.15787522  0.10141615  0.9522627   0.95034599\n",
      "  0.1294377   0.11258143  0.15787522  0.98953587  0.09594989  0.03976249\n",
      "  0.21711239  0.98694998  0.10613226  0.94769537  0.26043385  0.55651206\n",
      "  0.1674092   0.18193847  0.10761324  0.07991679  0.84714067  0.12030994\n",
      "  0.84318066  0.10613226  0.1166059   0.8711372   0.1166059   0.9379223\n",
      "  0.81296659  0.96630824  0.4913764   0.0969219   0.13384195  0.11872709\n",
      "  0.55451578  0.08524069  0.96031851  0.25310752  0.1166059   0.10944352\n",
      "  0.09872211  0.38725558  0.12311687  0.08924352  0.94390494  0.56164527\n",
      "  0.09696024  0.20826216  0.15787522  0.90940577  0.7670539   0.97442847\n",
      "  0.14062509  0.14162098  0.09092607  0.54471612  0.08924352  0.98527491\n",
      "  0.12311687  0.09129103  0.15787522  0.09262043  0.13708591  0.04922689\n",
      "  0.53211272  0.24688439  0.03855231  0.03304251  0.97511238  0.13708591\n",
      "  0.08496141  0.46681929  0.04434068  0.03971577  0.36930469  0.93735904\n",
      "  0.1166059   0.9574253   0.45727465  0.96031851  0.12030994  0.10141615\n",
      "  0.11258143  0.96847332  0.10761324  0.11336682  0.52957326  0.40659431\n",
      "  0.14068024  0.11258143  0.9606117   0.03629087  0.11258143  0.06124996\n",
      "  0.04924186  0.05390836  0.22278886  0.97275913  0.15962201  0.04918761\n",
      "  0.52164996  0.93936729  0.8210634   0.46518084  0.92790723  0.36220711\n",
      "  0.67488265  0.12030994  0.06000018  0.08645371  0.94390494  0.09872211\n",
      "  0.10761324  0.8674624   0.93048316  0.39615008  0.11336682  0.96155292\n",
      "  0.12311687  0.95991445  0.16397083  0.07145452  0.92793238  0.81296659\n",
      "  0.10761324  0.10613226  0.07799985  0.9574253   0.88548166  0.08596943\n",
      "  0.45258829  0.13708591  0.13384195  0.1156876   0.13708591  0.9592576\n",
      "  0.26388294  0.61157721  0.08401659]\n",
      "Precision: 0.832353\n",
      "Recal: 0.827485\n"
     ]
    }
   ],
   "source": [
    "# decide to use p=0.4 as threshod\n",
    "p = 0.4\n",
    "pred_final = pred[:, 1].copy()\n",
    "print xgb.classes_\n",
    "print pred\n",
    "print pred_final\n",
    "pred_final[pred_final > p] = 1\n",
    "pred_final[pred_final <= p] = 0\n",
    "#print pred_final\n",
    "tn, fp, fn, tp = confusion_matrix(y, pred_final).ravel()\n",
    "print('Precision: %f' % (float(tp)/(tp + fp)))\n",
    "print('Recal: %f' % (float(tp)/(tp + fn)))\n"
   ]
  },
  {
   "cell_type": "code",
   "execution_count": 43,
   "metadata": {},
   "outputs": [
    {
     "data": {
      "text/plain": [
       "<matplotlib.text.Text at 0xcfcf668>"
      ]
     },
     "execution_count": 43,
     "metadata": {},
     "output_type": "execute_result"
    },
    {
     "data": {
      "image/png": "[encoded data removed]",
      "text/plain": [
       "<matplotlib.figure.Figure at 0xcfdd748>"
      ]
     },
     "metadata": {},
     "output_type": "display_data"
    }
   ],
   "source": [
    "y_pred_prob = model.predict_proba(X)\n",
    "import matplotlib.pyplot as plt\n",
    "%matplotlib inline\n",
    "plt.hist(y_pred_prob[:, 1], bins=100)\n",
    "plt.title(\"Train Set Predict Prob\")\n",
    "plt.xlabel(\"Predict Prob\")\n",
    "plt.ylabel(\"Frequency\")\n"
   ]
  },
  {
   "cell_type": "code",
   "execution_count": 44,
   "metadata": {},
   "outputs": [
    {
     "name": "stdout",
     "output_type": "stream",
     "text": [
      "20.0\n"
     ]
    },
    {
     "data": {
      "image/png": "[encoded data removed]",
      "text/plain": [
       "<matplotlib.figure.Figure at 0xd44be10>"
      ]
     },
     "metadata": {},
     "output_type": "display_data"
    }
   ],
   "source": [
    "from xgboost import plot_importance\n",
    "plot_importance(model)\n",
    "plt.rcParams[\"font.size\"] = 20\n",
    "print(plt.rcParams[\"font.size\"])\n",
    "plt.xticks(size=25)\n",
    "plt.yticks(size=25)\n",
    "plt.xlabel('F-score', fontsize=30)\n",
    "plt.ylabel('Features', fontsize=30)\n",
    "plt.title('Feature importance', fontsize=30)\n",
    "plt.show()\n",
    "\n",
    "plt.rcParams[\"figure.figsize\"] = [40, 40]\n"
   ]
  },
  {
   "cell_type": "code",
   "execution_count": 45,
   "metadata": {},
   "outputs": [
    {
     "data": {
      "text/plain": [
       "8"
      ]
     },
     "execution_count": 45,
     "metadata": {},
     "output_type": "execute_result"
    }
   ],
   "source": [
    "len(X.columns[np.where(model.feature_importances_>0)])"
   ]
  },
  {
   "cell_type": "code",
   "execution_count": 49,
   "metadata": {
    "collapsed": true
   },
   "outputs": [],
   "source": [
    "import numpy as np\n",
    "\n",
    "def partial_dependency(model, X, features, selected_feature, floor):\n",
    "    # The model could be an XGBoost sklearn fitted instance (or anything else with a \n",
    "    # predict method)\n",
    "    X_temp = X.copy()\n",
    "    grid = np.linspace(np.percentile(X_temp.loc[:, selected_feature], 0.1), \n",
    "                       np.percentile(X_temp.loc[:, selected_feature], 99.5), \n",
    "                       50)\n",
    "    y_pred = np.zeros(len(grid))\n",
    "    \n",
    "    for i, val in enumerate(grid):\n",
    "        X_temp.loc[:, selected_feature] = val\n",
    "        p = model.predict_proba(X_temp.loc[:, features])[:, 1].mean()\n",
    "        y_pred[i] = p\n",
    "    return grid, y_pred"
   ]
  },
  {
   "cell_type": "code",
   "execution_count": 47,
   "metadata": {
    "collapsed": true
   },
   "outputs": [],
   "source": [
    "selected_names = X.columns[np.where(model.feature_importances_>0)]\n",
    "feature_names = X.columns"
   ]
  },
  {
   "cell_type": "code",
   "execution_count": 48,
   "metadata": {},
   "outputs": [
    {
     "name": "stderr",
     "output_type": "stream",
     "text": [
      "C:\\Users\\Desmond\\Anaconda2\\lib\\site-packages\\numpy\\lib\\function_base.py:4116: RuntimeWarning: Invalid value encountered in percentile\n",
      "  interpolation=interpolation)\n"
     ]
    },
    {
     "data": {
      "image/png": "[encoded data removed]",
      "text/plain": [
       "<matplotlib.figure.Figure at 0xd519cf8>"
      ]
     },
     "metadata": {},
     "output_type": "display_data"
    }
   ],
   "source": [
    "%matplotlib inline\n",
    "\n",
    "fig, ax = plt.subplots(1, len(selected_names))\n",
    "fig.set_size_inches(len(selected_names) * 4, 5)\n",
    "\n",
    "y_pred_list = []\n",
    "grid_list = []\n",
    "for i, f in enumerate(selected_names):\n",
    "    grid, y_pred = partial_dependency(model, X, feature_names, \n",
    "                                      f, 50)\n",
    "    y_pred_list.append(y_pred)\n",
    "    grid_list.append(grid)\n",
    "    if i ==0 and len(feature_names) == 1:\n",
    "        axis = ax\n",
    "    else:\n",
    "        axis = ax[i]\n",
    "        \n",
    "    axis.plot(grid, y_pred, '-', color = 'g', linewidth = 2.5, label='fit')\n",
    "#     axis.plot(X.loc[:, f], y, 'o', color = 'grey', alpha = 0.01)\n",
    "# \n",
    "    axis.set_xlim(min(grid), max(grid))\n",
    "    axis.set_xlabel(f, fontsize = 10)\n",
    "    axis.set_ylabel('Partial Dependence', fontsize = 12)\n",
    "    \n",
    "    handles, labels = axis.get_legend_handles_labels()\n",
    "    axis.legend(handles, labels, loc = 'best', fontsize = 12)"
   ]
  }
 ],
 "metadata": {
  "kernelspec": {
   "display_name": "Python 2",
   "language": "python",
   "name": "python2"
  },
  "language_info": {
   "codemirror_mode": {
    "name": "ipython",
    "version": 2
   },
   "file_extension": ".py",
   "mimetype": "text/x-python",
   "name": "python",
   "nbconvert_exporter": "python",
   "pygments_lexer": "ipython2",
   "version": "2.7.13"
  }
 },
 "nbformat": 4,
 "nbformat_minor": 2
}
