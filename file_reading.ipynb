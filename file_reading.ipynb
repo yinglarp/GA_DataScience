{
 "cells": [
  {
   "cell_type": "code",
   "execution_count": 1,
   "metadata": {
    "collapsed": false
   },
   "outputs": [
    {
     "name": "stdout",
     "output_type": "stream",
     "text": [
      "airline,avail_seat_km_per_week,incidents_85_99,fatal_accidents_85_99,fatalities_85_99,incidents_00_14,fatal_accidents_00_14,fatalities_00_14\n",
      "Aer Lingus,320906734,2,0,0,0,0,0\n",
      "Aeroflot*,1197672318,76,14,128,6,1,88\n",
      "Aerolineas Argentinas,385803648,6,0,0,1,0,0\n",
      "Aeromexico*,596871813,3,1,64,5,0,0\n",
      "Air Canada,1865253802,2,0,0,2,0,0\n",
      "Air France,3004002661,14,4,79,6,2,337\n",
      "Air India*,869253552,2,1,329,4,1,158\n",
      "Air New Zealand*,710174817,3,0,0,5,1,7\n",
      "Alaska Airlines*,965346773,5,0,0,5,1,88\n",
      "Alitalia,698012498,7,2,50,4,0,0\n",
      "All Nippon Airways,1841234177,3,1,1,7,0,0\n",
      "American*,5228357340,21,5,101,17,3,416\n",
      "Austrian Airlines,358239823,1,0,0,1,0,0\n",
      "Avianca,396922563,5,3,323,0,0,0\n",
      "British Airways*,3179760952,4,0,0,6,0,0\n",
      "Cathay Pacific*,2582459303,0,0,0,2,0,0\n",
      "China Airlines,813216487,12,6,535,2,1,225\n",
      "Condor,417982610,2,1,16,0,0,0\n",
      "COPA,550491507,3,1,47,0,0,0\n",
      "Delta / Northwest*,6525658894,24,12,407,24,2,51\n",
      "Egyptair,557699891,8,3,282,4,1,14\n",
      "El Al,335448023,1,1,4,1,0,0\n",
      "Ethiopian Airlines,488560643,25,5,167,5,2,92\n",
      "Finnair,506464950,1,0,0,0,0,0\n",
      "Garuda Indonesia,613356665,10,3,260,4,2,22\n",
      "Gulf Air,301379762,1,0,0,3,1,143\n",
      "Hawaiian Airlines,493877795,0,0,0,1,0,0\n",
      "Iberia,1173203126,4,1,148,5,0,0\n",
      "Japan Airlines,1574217531,3,1,520,0,0,0\n",
      "Kenya Airways,277414794,2,0,0,2,2,283\n",
      "KLM*,1874561773,7,1,3,1,0,0\n",
      "Korean Air,1734522605,12,5,425,1,0,0\n",
      "LAN Airlines,1001965891,3,2,21,0,0,0\n",
      "Lufthansa*,3426529504,6,1,2,3,0,0\n",
      "Malaysia Airlines,1039171244,3,1,34,3,2,537\n",
      "Pakistan International,348563137,8,3,234,10,2,46\n",
      "Philippine Airlines,413007158,7,4,74,2,1,1\n",
      "Qantas*,1917428984,1,0,0,5,0,0\n",
      "Royal Air Maroc,295705339,5,3,51,3,0,0\n",
      "SAS*,682971852,5,0,0,6,1,110\n",
      "Saudi Arabian,859673901,7,2,313,11,0,0\n",
      "Singapore Airlines,2376857805,2,2,6,2,1,83\n",
      "South African,651502442,2,1,159,1,0,0\n",
      "Southwest Airlines,3276525770,1,0,0,8,0,0\n",
      "Sri Lankan / AirLanka,325582976,2,1,14,4,0,0\n",
      "SWISS*,792601299,2,1,229,3,0,0\n",
      "TACA,259373346,3,1,3,1,1,3\n",
      "TAM,1509195646,8,3,98,7,2,188\n",
      "TAP - Air Portugal,619130754,0,0,0,0,0,0\n",
      "Thai Airways,1702802250,8,4,308,2,1,1\n",
      "Turkish Airlines,1946098294,8,3,64,8,2,84\n",
      "United / Continental*,7139291291,19,8,319,14,2,109\n",
      "US Airways / America West*,2455687887,16,7,224,11,2,23\n",
      "Vietnam Airlines,625084918,7,3,171,1,0,0\n",
      "Virgin Atlantic,1005248585,1,0,0,0,0,0\n",
      "Xiamen Airlines,430462962,9,1,82,2,0,0\n"
     ]
    }
   ],
   "source": [
    "f = open('data/airline-safety.csv', mode='rU')\n",
    "file_string = f.read()\n",
    "f.close()\n",
    "print file_string\n"
   ]
  },
  {
   "cell_type": "code",
   "execution_count": 2,
   "metadata": {
    "collapsed": false
   },
   "outputs": [],
   "source": [
    "# use a context manager to automatically close your file\n",
    "with open('data/airline-safety.csv', mode='rU') as f:\n",
    "    file_string = f.read()\n",
    "\n"
   ]
  },
  {
   "cell_type": "code",
   "execution_count": 3,
   "metadata": {
    "collapsed": false
   },
   "outputs": [
    {
     "name": "stdout",
     "output_type": "stream",
     "text": [
      "['airline,avail_seat_km_per_week,incidents_85_99,fatal_accidents_85_99,fatalities_85_99,incidents_00_14,fatal_accidents_00_14,fatalities_00_14\\n', 'Aer Lingus,320906734,2,0,0,0,0,0\\n', 'Aeroflot*,1197672318,76,14,128,6,1,88\\n', 'Aerolineas Argentinas,385803648,6,0,0,1,0,0\\n', 'Aeromexico*,596871813,3,1,64,5,0,0\\n', 'Air Canada,1865253802,2,0,0,2,0,0\\n', 'Air France,3004002661,14,4,79,6,2,337\\n', 'Air India*,869253552,2,1,329,4,1,158\\n', 'Air New Zealand*,710174817,3,0,0,5,1,7\\n', 'Alaska Airlines*,965346773,5,0,0,5,1,88\\n', 'Alitalia,698012498,7,2,50,4,0,0\\n', 'All Nippon Airways,1841234177,3,1,1,7,0,0\\n', 'American*,5228357340,21,5,101,17,3,416\\n', 'Austrian Airlines,358239823,1,0,0,1,0,0\\n', 'Avianca,396922563,5,3,323,0,0,0\\n', 'British Airways*,3179760952,4,0,0,6,0,0\\n', 'Cathay Pacific*,2582459303,0,0,0,2,0,0\\n', 'China Airlines,813216487,12,6,535,2,1,225\\n', 'Condor,417982610,2,1,16,0,0,0\\n', 'COPA,550491507,3,1,47,0,0,0\\n', 'Delta / Northwest*,6525658894,24,12,407,24,2,51\\n', 'Egyptair,557699891,8,3,282,4,1,14\\n', 'El Al,335448023,1,1,4,1,0,0\\n', 'Ethiopian Airlines,488560643,25,5,167,5,2,92\\n', 'Finnair,506464950,1,0,0,0,0,0\\n', 'Garuda Indonesia,613356665,10,3,260,4,2,22\\n', 'Gulf Air,301379762,1,0,0,3,1,143\\n', 'Hawaiian Airlines,493877795,0,0,0,1,0,0\\n', 'Iberia,1173203126,4,1,148,5,0,0\\n', 'Japan Airlines,1574217531,3,1,520,0,0,0\\n', 'Kenya Airways,277414794,2,0,0,2,2,283\\n', 'KLM*,1874561773,7,1,3,1,0,0\\n', 'Korean Air,1734522605,12,5,425,1,0,0\\n', 'LAN Airlines,1001965891,3,2,21,0,0,0\\n', 'Lufthansa*,3426529504,6,1,2,3,0,0\\n', 'Malaysia Airlines,1039171244,3,1,34,3,2,537\\n', 'Pakistan International,348563137,8,3,234,10,2,46\\n', 'Philippine Airlines,413007158,7,4,74,2,1,1\\n', 'Qantas*,1917428984,1,0,0,5,0,0\\n', 'Royal Air Maroc,295705339,5,3,51,3,0,0\\n', 'SAS*,682971852,5,0,0,6,1,110\\n', 'Saudi Arabian,859673901,7,2,313,11,0,0\\n', 'Singapore Airlines,2376857805,2,2,6,2,1,83\\n', 'South African,651502442,2,1,159,1,0,0\\n', 'Southwest Airlines,3276525770,1,0,0,8,0,0\\n', 'Sri Lankan / AirLanka,325582976,2,1,14,4,0,0\\n', 'SWISS*,792601299,2,1,229,3,0,0\\n', 'TACA,259373346,3,1,3,1,1,3\\n', 'TAM,1509195646,8,3,98,7,2,188\\n', 'TAP - Air Portugal,619130754,0,0,0,0,0,0\\n', 'Thai Airways,1702802250,8,4,308,2,1,1\\n', 'Turkish Airlines,1946098294,8,3,64,8,2,84\\n', 'United / Continental*,7139291291,19,8,319,14,2,109\\n', 'US Airways / America West*,2455687887,16,7,224,11,2,23\\n', 'Vietnam Airlines,625084918,7,3,171,1,0,0\\n', 'Virgin Atlantic,1005248585,1,0,0,0,0,0\\n', 'Xiamen Airlines,430462962,9,1,82,2,0,0']\n"
     ]
    }
   ],
   "source": [
    "# read the file into a list (each list element is one row)\n",
    "with open('data/airline-safety.csv', mode='rU') as f:\n",
    "    file_list = []\n",
    "    for row in f:\n",
    "        file_list.append(row)\n",
    "\n",
    "print file_list"
   ]
  },
  {
   "cell_type": "code",
   "execution_count": 4,
   "metadata": {
    "collapsed": false
   },
   "outputs": [
    {
     "name": "stdout",
     "output_type": "stream",
     "text": [
      "airline,avail_seat_km_per_week,incidents_85_99,fatal_accidents_85_99,fatalities_85_99,incidents_00_14,fatal_accidents_00_14,fatalities_00_14\n",
      "\n"
     ]
    }
   ],
   "source": [
    "# do the same thing using a list comprehension\n",
    "with open('data/airline-safety.csv', mode='rU') as f:\n",
    "    file_list = [row for row in f]\n",
    "\n",
    "print file_list[0]"
   ]
  },
  {
   "cell_type": "code",
   "execution_count": 5,
   "metadata": {
    "collapsed": false
   },
   "outputs": [
    {
     "data": {
      "text/plain": [
       "['hello', 'DAT', 'students']"
      ]
     },
     "execution_count": 5,
     "metadata": {},
     "output_type": "execute_result"
    }
   ],
   "source": [
    "# side note: splitting strings\n",
    "'hello DAT students'.split()\n"
   ]
  },
  {
   "cell_type": "code",
   "execution_count": 6,
   "metadata": {
    "collapsed": false
   },
   "outputs": [
    {
     "data": {
      "text/plain": [
       "['h', 'llo DAT stud', 'nts']"
      ]
     },
     "execution_count": 6,
     "metadata": {},
     "output_type": "execute_result"
    }
   ],
   "source": [
    "'hello DAT students'.split('e')\n"
   ]
  },
  {
   "cell_type": "code",
   "execution_count": 7,
   "metadata": {
    "collapsed": false
   },
   "outputs": [
    {
     "name": "stdout",
     "output_type": "stream",
     "text": [
      "['airline', 'avail_seat_km_per_week', 'incidents_85_99', 'fatal_accidents_85_99', 'fatalities_85_99', 'incidents_00_14', 'fatal_accidents_00_14', 'fatalities_00_14\\n']\n"
     ]
    }
   ],
   "source": [
    "# split each string (at the commas) into a list\n",
    "with open('data/airline-safety.csv', mode='rU') as f:\n",
    "    file_nested_list = [row.split(',') for row in f]\n",
    "\n",
    "print file_nested_list[0]"
   ]
  },
  {
   "cell_type": "code",
   "execution_count": 8,
   "metadata": {
    "collapsed": false
   },
   "outputs": [
    {
     "name": "stdout",
     "output_type": "stream",
     "text": [
      "['airline', 'avail_seat_km_per_week', 'incidents_85_99', 'fatal_accidents_85_99', 'fatalities_85_99', 'incidents_00_14', 'fatal_accidents_00_14', 'fatalities_00_14']\n"
     ]
    }
   ],
   "source": [
    "\n",
    "# do the same thing using the csv module\n",
    "import csv\n",
    "with open('data/airline-safety.csv', mode='rU') as f:\n",
    "    file_nested_list = [row for row in csv.reader(f)]\n",
    "\n",
    "print  file_nested_list[0]"
   ]
  }
 ],
 "metadata": {
  "anaconda-cloud": {},
  "kernelspec": {
   "display_name": "Python [default]",
   "language": "python",
   "name": "python2"
  },
  "language_info": {
   "codemirror_mode": {
    "name": "ipython",
    "version": 2
   },
   "file_extension": ".py",
   "mimetype": "text/x-python",
   "name": "python",
   "nbconvert_exporter": "python",
   "pygments_lexer": "ipython2",
   "version": "2.7.12"
  }
 },
 "nbformat": 4,
 "nbformat_minor": 1
}
