{
 "cells": [
  {
   "cell_type": "markdown",
   "metadata": {},
   "source": [
    "# Visualization with Pandas (and Matplotlib)"
   ]
  },
  {
   "cell_type": "code",
   "execution_count": 1,
   "metadata": {
    "collapsed": true
   },
   "outputs": [],
   "source": [
    "import pandas as pd\n",
    "import matplotlib.pyplot as plt\n",
    "\n",
    "# display plots in the notebook\n",
    "%matplotlib inline\n",
    "\n",
    "# increase default figure and font sizes for easier viewing\n",
    "plt.rcParams['figure.figsize'] = (8, 6)\n",
    "plt.rcParams['font.size'] = 14"
   ]
  },
  {
   "cell_type": "code",
   "execution_count": 2,
   "metadata": {
    "collapsed": true
   },
   "outputs": [],
   "source": [
    "# read in the drinks data\n",
    "drink_cols = ['country', 'beer', 'spirit', 'wine', 'liters', 'continent']\n",
    "url = 'https://raw.githubusercontent.com/justmarkham/DAT8/master/data/drinks.csv'\n",
    "drinks = pd.read_csv(url, header=0, names=drink_cols, na_filter=False)"
   ]
  },
  {
   "cell_type": "markdown",
   "metadata": {},
   "source": [
    "## Histogram: show the distribution of a numerical variable"
   ]
  },
  {
   "cell_type": "code",
   "execution_count": 3,
   "metadata": {},
   "outputs": [
    {
     "data": {
      "text/plain": [
       "array([  0,   0,   0,   0,   0,   0,   0,   0,   0,   0,   0,   0,   0,\n",
       "         0,   0,   1,   1,   1,   1,   2,   3,   5,   5,   5,   5,   5,\n",
       "         6,   6,   6,   6,   8,   8,   8,   9,   9,   9,   9,  12,  13,\n",
       "        15,  15,  16,  16,  17,  18,  19,  19,  20,  20,  21,  21,  21,\n",
       "        21,  22,  23,  25,  25,  25,  25,  26,  28,  31,  31,  31,  31,\n",
       "        32,  32,  34,  36,  36,  36,  37,  42,  42,  43,  44,  45,  47,\n",
       "        49,  51,  51,  52,  52,  52,  53,  56,  56,  57,  58,  60,  62,\n",
       "        62,  63,  64,  69,  71,  76,  76,  77,  77,  77,  78,  79,  82,\n",
       "        82,  85,  88,  89,  90,  92,  93,  93,  98,  99, 102, 105, 106,\n",
       "       109, 111, 115, 120, 122, 124, 127, 128, 130, 133, 140, 142, 143,\n",
       "       144, 147, 149, 149, 152, 157, 159, 162, 163, 167, 169, 171, 173,\n",
       "       185, 188, 192, 193, 193, 194, 194, 196, 197, 199, 203, 206, 213,\n",
       "       217, 219, 224, 224, 225, 230, 231, 233, 234, 236, 238, 240, 245,\n",
       "       245, 247, 249, 251, 261, 263, 263, 270, 279, 281, 283, 284, 285,\n",
       "       295, 297, 306, 313, 333, 343, 343, 346, 347, 361, 376], dtype=int64)"
      ]
     },
     "execution_count": 3,
     "metadata": {},
     "output_type": "execute_result"
    }
   ],
   "source": [
    "# sort the beer column and mentally split it into 3 groups\n",
    "drinks['beer'].sort_values().values"
   ]
  },
  {
   "cell_type": "code",
   "execution_count": 4,
   "metadata": {},
   "outputs": [
    {
     "data": {
      "image/png": "[encoded data removed]",
      "text/plain": [
       "<matplotlib.figure.Figure at 0xa20f400>"
      ]
     },
     "metadata": {},
     "output_type": "display_data"
    }
   ],
   "source": [
    "# compare with histogram\n",
    "fig,ax = plt.subplots()\n",
    "x = drinks['beer'].sort_values().values\n",
    "num_bins = 10\n",
    "n,bins,patches = plt.hist(x,num_bins,facecolor='red', alpha=0.5)\n",
    "plt.title('Distribution of beer drinkers')\n",
    "plt.xlabel('bins - Categories of beer drinkers')\n",
    "plt.ylabel('Frequeny/Count')\n",
    "plt.show()\n"
   ]
  },
  {
   "cell_type": "code",
   "execution_count": 5,
   "metadata": {},
   "outputs": [
    {
     "data": {
      "image/png": "[encoded data removed]",
      "text/plain": [
       "<matplotlib.figure.Figure at 0xa2f3438>"
      ]
     },
     "metadata": {},
     "output_type": "display_data"
    }
   ],
   "source": [
    "# try more bins\n",
    "fig,ax = plt.subplots()\n",
    "x = drinks['beer'].sort_values().values\n",
    "num_bins = 20\n",
    "n,bins,patches = plt.hist(x,num_bins,facecolor='red', alpha=0.5)\n",
    "plt.title('Distribution of beer drinkers')\n",
    "plt.xlabel('bins - Categories of beer drinkers')\n",
    "plt.ylabel('Frequeny/Count')\n",
    "plt.show()"
   ]
  },
  {
   "cell_type": "code",
   "execution_count": 4,
   "metadata": {
    "collapsed": true
   },
   "outputs": [],
   "source": [
    "# add title and labels\n"
   ]
  },
  {
   "cell_type": "code",
   "execution_count": 5,
   "metadata": {
    "collapsed": true
   },
   "outputs": [],
   "source": [
    "# compare with density plot (smooth version of a histogram)\n"
   ]
  },
  {
   "cell_type": "markdown",
   "metadata": {},
   "source": [
    "## Scatter Plot: show the relationship between two numerical variables"
   ]
  },
  {
   "cell_type": "code",
   "execution_count": 6,
   "metadata": {
    "collapsed": true
   },
   "outputs": [],
   "source": [
    "# select the beer and wine columns and sort by beer\n"
   ]
  },
  {
   "cell_type": "code",
   "execution_count": 7,
   "metadata": {
    "collapsed": true
   },
   "outputs": [],
   "source": [
    "# compare with scatter plot\n"
   ]
  },
  {
   "cell_type": "code",
   "execution_count": 8,
   "metadata": {
    "collapsed": true
   },
   "outputs": [],
   "source": [
    "# add transparency\n"
   ]
  },
  {
   "cell_type": "code",
   "execution_count": 9,
   "metadata": {
    "collapsed": true
   },
   "outputs": [],
   "source": [
    "# vary point color by spirit servings\n"
   ]
  },
  {
   "cell_type": "code",
   "execution_count": 10,
   "metadata": {
    "collapsed": true
   },
   "outputs": [],
   "source": [
    "# scatter matrix of three numerical columns\n"
   ]
  },
  {
   "cell_type": "code",
   "execution_count": 11,
   "metadata": {
    "collapsed": true
   },
   "outputs": [],
   "source": [
    "# increase figure size\n"
   ]
  },
  {
   "cell_type": "markdown",
   "metadata": {},
   "source": [
    "## Bar Plot: show a numerical comparison across different categories"
   ]
  },
  {
   "cell_type": "code",
   "execution_count": 12,
   "metadata": {
    "collapsed": true
   },
   "outputs": [],
   "source": [
    "# count the number of countries in each continent\n"
   ]
  },
  {
   "cell_type": "code",
   "execution_count": 13,
   "metadata": {
    "collapsed": true
   },
   "outputs": [],
   "source": [
    "# compare with bar plot\n"
   ]
  },
  {
   "cell_type": "code",
   "execution_count": 14,
   "metadata": {
    "collapsed": true
   },
   "outputs": [],
   "source": [
    "# calculate the mean alcohol amounts for each continent\n"
   ]
  },
  {
   "cell_type": "code",
   "execution_count": 15,
   "metadata": {
    "collapsed": true
   },
   "outputs": [],
   "source": [
    "# side-by-side bar plots\n"
   ]
  },
  {
   "cell_type": "code",
   "execution_count": 16,
   "metadata": {
    "collapsed": true
   },
   "outputs": [],
   "source": [
    "# drop the liters column\n"
   ]
  },
  {
   "cell_type": "code",
   "execution_count": 17,
   "metadata": {
    "collapsed": true
   },
   "outputs": [],
   "source": [
    "# stacked bar plots\n"
   ]
  },
  {
   "cell_type": "markdown",
   "metadata": {},
   "source": [
    "## Box Plot: show quartiles (and outliers) for one or more numerical variables\n",
    "\n",
    "**Five-number summary:**\n",
    "\n",
    "- min = minimum value\n",
    "- 25% = first quartile (Q1) = median of the lower half of the data\n",
    "- 50% = second quartile (Q2) = median of the data\n",
    "- 75% = third quartile (Q3) = median of the upper half of the data\n",
    "- max = maximum value\n",
    "\n",
    "(More useful than mean and standard deviation for describing skewed distributions)\n",
    "\n",
    "**Interquartile Range (IQR)** = Q3 - Q1\n",
    "\n",
    "**Outliers:**\n",
    "\n",
    "- below Q1 - 1.5 * IQR\n",
    "- above Q3 + 1.5 * IQR\n",
    "\n",
    "** Box Plot **\n",
    "https://www.google.com.sg/imgres?imgurl=http://www.wellbeingatschool.org.nz/sites/default/files/W%40S_boxplot-labels.png&imgrefurl=http://www.wellbeingatschool.org.nz/information-sheet/understanding-and-interpreting-box-plots&h=672&w=751&tbnid=Qd1HUdq0L8ny8M:&tbnh=160&tbnw=178&docid=ERnC5S4oRLm4bM&usg=__SvfiSu7gvgzIu6DLMHGhXm7pxzQ=&sa=X&ved=0ahUKEwi_s_GYluPPAhUJqY8KHT3cAywQ9QEIHjAA"
   ]
  },
  {
   "cell_type": "code",
   "execution_count": 18,
   "metadata": {
    "collapsed": true
   },
   "outputs": [],
   "source": [
    "# sort the spirit column\n"
   ]
  },
  {
   "cell_type": "code",
   "execution_count": 19,
   "metadata": {
    "collapsed": true
   },
   "outputs": [],
   "source": [
    "# show \"five-number summary\" for spirit\n"
   ]
  },
  {
   "cell_type": "code",
   "execution_count": 20,
   "metadata": {
    "collapsed": true
   },
   "outputs": [],
   "source": [
    "# compare with box plot\n"
   ]
  },
  {
   "cell_type": "code",
   "execution_count": 21,
   "metadata": {
    "collapsed": true
   },
   "outputs": [],
   "source": [
    "# include multiple variables\n"
   ]
  },
  {
   "cell_type": "markdown",
   "metadata": {},
   "source": [
    "## Line Plot: show the trend of a numerical variable over time"
   ]
  },
  {
   "cell_type": "code",
   "execution_count": 24,
   "metadata": {
    "collapsed": true
   },
   "outputs": [],
   "source": [
    "# read in the ufo data\n",
    "url = 'https://raw.githubusercontent.com/justmarkham/DAT8/master/data/ufo.csv'\n",
    "ufo = pd.read_csv(url)\n",
    "ufo['Time'] = pd.to_datetime(ufo.Time)\n",
    "ufo['Year'] = ufo.Time.dt.year"
   ]
  },
  {
   "cell_type": "code",
   "execution_count": 22,
   "metadata": {
    "collapsed": true
   },
   "outputs": [],
   "source": [
    "# count the number of ufo reports each year (and sort by year)\n"
   ]
  },
  {
   "cell_type": "code",
   "execution_count": 23,
   "metadata": {
    "collapsed": true
   },
   "outputs": [],
   "source": [
    "# compare with line plot\n"
   ]
  },
  {
   "cell_type": "code",
   "execution_count": 24,
   "metadata": {
    "collapsed": true
   },
   "outputs": [],
   "source": [
    "# don't use a line plot when there is no logical ordering\n"
   ]
  },
  {
   "cell_type": "markdown",
   "metadata": {},
   "source": [
    "## Grouped Box Plots: show one box plot for each group"
   ]
  },
  {
   "cell_type": "code",
   "execution_count": 25,
   "metadata": {
    "collapsed": true
   },
   "outputs": [],
   "source": [
    "# reminder: box plot of beer servings\n"
   ]
  },
  {
   "cell_type": "code",
   "execution_count": 26,
   "metadata": {
    "collapsed": true
   },
   "outputs": [],
   "source": [
    "# box plot of beer servings grouped by continent\n"
   ]
  },
  {
   "cell_type": "code",
   "execution_count": 27,
   "metadata": {
    "collapsed": true
   },
   "outputs": [],
   "source": [
    "# box plot of all numeric columns grouped by continent\n"
   ]
  },
  {
   "cell_type": "markdown",
   "metadata": {},
   "source": [
    "## Grouped Histograms: show one histogram for each group"
   ]
  },
  {
   "cell_type": "code",
   "execution_count": 28,
   "metadata": {
    "collapsed": true
   },
   "outputs": [],
   "source": [
    "# reminder: histogram of beer servings\n"
   ]
  },
  {
   "cell_type": "code",
   "execution_count": 29,
   "metadata": {
    "collapsed": true
   },
   "outputs": [],
   "source": [
    "# histogram of beer servings grouped by continent\n"
   ]
  },
  {
   "cell_type": "code",
   "execution_count": 30,
   "metadata": {
    "collapsed": true
   },
   "outputs": [],
   "source": [
    "# share the x axes\n"
   ]
  },
  {
   "cell_type": "code",
   "execution_count": 31,
   "metadata": {
    "collapsed": true
   },
   "outputs": [],
   "source": [
    "# share the x and y axes\n"
   ]
  },
  {
   "cell_type": "code",
   "execution_count": 32,
   "metadata": {
    "collapsed": true
   },
   "outputs": [],
   "source": [
    "# change the layout\n"
   ]
  },
  {
   "cell_type": "markdown",
   "metadata": {},
   "source": [
    "## Assorted Functionality"
   ]
  },
  {
   "cell_type": "code",
   "execution_count": 36,
   "metadata": {},
   "outputs": [
    {
     "data": {
      "image/png": "[encoded data removed]",
      "text/plain": [
       "<matplotlib.figure.Figure at 0x22aab470>"
      ]
     },
     "metadata": {},
     "output_type": "display_data"
    }
   ],
   "source": [
    "# saving a plot to a file\n",
    "drinks.beer.plot(kind='hist', bins=20, title='Histogram of Beer Servings')\n",
    "plt.xlabel('Beer Servings')\n",
    "plt.ylabel('Frequency')\n",
    "plt.savefig('beer_histogram.png')"
   ]
  },
  {
   "cell_type": "code",
   "execution_count": 37,
   "metadata": {},
   "outputs": [
    {
     "data": {
      "text/plain": [
       "[u'dark_background', u'bmh', u'grayscale', u'ggplot', u'fivethirtyeight']"
      ]
     },
     "execution_count": 37,
     "metadata": {},
     "output_type": "execute_result"
    }
   ],
   "source": [
    "# list available plot styles\n",
    "plt.style.available"
   ]
  },
  {
   "cell_type": "code",
   "execution_count": 38,
   "metadata": {
    "collapsed": true
   },
   "outputs": [],
   "source": [
    "# change to a different style\n",
    "plt.style.use('ggplot')\n"
   ]
  },
  {
   "cell_type": "code",
   "execution_count": null,
   "metadata": {
    "collapsed": true
   },
   "outputs": [],
   "source": [
    "# TODO\n",
    "\n",
    "# - find csv data of interest to your project\n",
    "# - explore it using pandas with some visualisation"
   ]
  }
 ],
 "metadata": {
  "kernelspec": {
   "display_name": "Python 2",
   "language": "python",
   "name": "python2"
  },
  "language_info": {
   "codemirror_mode": {
    "name": "ipython",
    "version": 2
   },
   "file_extension": ".py",
   "mimetype": "text/x-python",
   "name": "python",
   "nbconvert_exporter": "python",
   "pygments_lexer": "ipython2",
   "version": "2.7.13"
  }
 },
 "nbformat": 4,
 "nbformat_minor": 1
}
