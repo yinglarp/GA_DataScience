{
 "cells": [
  {
   "cell_type": "markdown",
   "metadata": {},
   "source": [
    "# This notebooks has a number of problems to help you get better at Python"
   ]
  },
  {
   "cell_type": "markdown",
   "metadata": {},
   "source": [
    "### Problem 1: Write a function to convert miles to Kilo Meters\n",
    "\n",
    "Hint: 1 mile = 1.6 km"
   ]
  },
  {
   "cell_type": "code",
<<<<<<< HEAD
   "execution_count": 7,
   "metadata": {
    "collapsed": true
   },
=======
   "execution_count": null,
   "metadata": {},
>>>>>>> c1ccabadacd478c2a832b0d22e32cc83c2850868
   "outputs": [],
   "source": [
    "# Code the following function\n",
    "def convert_to_km(miles):\n",
    "    '''Returns km value for miles.\n",
    "    '''\n",
    "    return miles*1.6  # replace pass with your code"
   ]
  },
  {
   "cell_type": "code",
   "execution_count": 2,
<<<<<<< HEAD
   "metadata": {
    "collapsed": true
   },
=======
   "metadata": {},
>>>>>>> c1ccabadacd478c2a832b0d22e32cc83c2850868
   "outputs": [],
   "source": [
    "# This is your scratch space to do what you want like test.  \n",
    "# To create more scratch space, just click on Insert -> Cell from the menu"
   ]
  },
  {
   "cell_type": "code",
<<<<<<< HEAD
   "execution_count": 9,
   "metadata": {
    "collapsed": true
   },
=======
   "execution_count": null,
   "metadata": {},
>>>>>>> c1ccabadacd478c2a832b0d22e32cc83c2850868
   "outputs": [],
   "source": [
    "# If your code is right, the following asserts would succeed, otherwise, you will get a Traceback error\n",
    "# If you get an error, go back to above code and modify and try again.\n",
    "assert(convert_to_km(0) == 0)\n",
    "assert(convert_to_km(1) == 1.6)\n",
    "assert(convert_to_km(2) == 3.2)\n",
    "assert(convert_to_km(1.25) == 2.0)"
   ]
  },
  {
   "cell_type": "markdown",
   "metadata": {},
   "source": [
    "### Problem 2: Write a function to compute powers of 2\n",
    "\n",
    "Hint: Powers of 2 are 1, 2, 4, 8, 16, 32 and so on for 2 to the power of 0, 1, 2, 3, 4, 5."
   ]
  },
  {
   "cell_type": "code",
<<<<<<< HEAD
   "execution_count": 26,
   "metadata": {
    "collapsed": true
   },
=======
   "execution_count": null,
   "metadata": {},
>>>>>>> c1ccabadacd478c2a832b0d22e32cc83c2850868
   "outputs": [],
   "source": [
    "# Code the following function\n",
    "def power_of_2(n):\n",
    "    '''Returns 2 to the power value.\n",
    "    '''\n",
    "    return 2**n"
   ]
  },
  {
   "cell_type": "code",
<<<<<<< HEAD
   "execution_count": 27,
   "metadata": {
    "collapsed": true
   },
=======
   "execution_count": null,
   "metadata": {},
>>>>>>> c1ccabadacd478c2a832b0d22e32cc83c2850868
   "outputs": [],
   "source": [
    "# For example, you can test your code by typing power_of_2(1) and confirming the result."
   ]
  },
  {
   "cell_type": "code",
<<<<<<< HEAD
   "execution_count": 28,
   "metadata": {
    "collapsed": true
   },
=======
   "execution_count": null,
   "metadata": {},
>>>>>>> c1ccabadacd478c2a832b0d22e32cc83c2850868
   "outputs": [],
   "source": [
    "# If your code is right, the following asserts would succeed\n",
    "assert(power_of_2(0) == 1)\n",
    "assert(power_of_2(1) == 2)\n",
    "assert(power_of_2(2) == 4)\n",
    "assert(power_of_2(3) == 8)"
   ]
  },
  {
   "cell_type": "markdown",
   "metadata": {},
   "source": [
    " #### Problem 3: Write a function to check if the number is a power of 2\n",
    " \n",
    " If I pass in a value of 1, 2, 4, 8, 16 ... it should return True.  Otherwise, it should return False."
   ]
  },
  {
   "cell_type": "code",
<<<<<<< HEAD
   "execution_count": 22,
   "metadata": {
    "collapsed": true
   },
=======
   "execution_count": null,
   "metadata": {},
>>>>>>> c1ccabadacd478c2a832b0d22e32cc83c2850868
   "outputs": [],
   "source": [
    "def check_power_of_2(numb):\n",
    "    '''Returns True if numb is a power of 2, else returns False'''\n",
    "    numb = numb/2.0\n",
    "    if numb == 2:\n",
    "        return True\n",
    "    elif numb > 2:\n",
    "        return power_of_2(numb)\n",
    "    else:\n",
    "        return False"
   ]
  },
  {
   "cell_type": "code",
   "execution_count": null,
<<<<<<< HEAD
   "metadata": {
    "collapsed": true
   },
=======
   "metadata": {},
>>>>>>> c1ccabadacd478c2a832b0d22e32cc83c2850868
   "outputs": [],
   "source": [
    "# If your code is right, the following asserts would succeed.\n",
    "assert(check_power_of_2(2) is True)\n",
    "assert(check_power_of_2(3) is False)\n",
    "assert(check_power_of_2(8) is True)\n",
    "assert(check_power_of_2(12) is False)"
   ]
  },
  {
   "cell_type": "markdown",
   "metadata": {},
   "source": [
    "### Problem 4: Write a function that returns the nth fibonaci sequence\n",
    "\n",
    "If I call with value of:\n",
    "    * 1, return the first fib sequence of 1\n",
    "    * 2, return 2nd number in fub seq of 1\n",
    "    * 3, return 1 + 1 = 2\n",
    "    * 4, return 1 + 2 = 3\n",
    "    * 5, return 2 + 3 = 5\n",
    "    * 6, return 3 + 5 = 8\n",
    "\n",
    "Ref: http://en.wikipedia.org/wiki/Fibonacci_number"
   ]
  },
  {
   "cell_type": "code",
<<<<<<< HEAD
   "execution_count": 23,
   "metadata": {
    "collapsed": true
   },
=======
   "execution_count": null,
   "metadata": {},
>>>>>>> c1ccabadacd478c2a832b0d22e32cc83c2850868
   "outputs": [],
   "source": [
    "def fib_value(numb):\n",
    "    '''returns the nth numb in fibonaci sequence'''\n",
    "    if numb == 1: #stopping condition 1\n",
    "        return 1\n",
    "    elif numb==0:\n",
    "        return 0  #stopping condition 2\n",
    "    else:\n",
    "        return fib_value(numb-1)+fib_value(numb-2)\n",
    "#modelled this as a binary tree, for easier visualization"
   ]
  },
  {
   "cell_type": "code",
<<<<<<< HEAD
   "execution_count": 22,
   "metadata": {
    "collapsed": true
   },
=======
   "execution_count": null,
   "metadata": {},
>>>>>>> c1ccabadacd478c2a832b0d22e32cc83c2850868
   "outputs": [],
   "source": [
    "# If your code is right, the following asserts would succeed. \n",
    "assert(fib_value(1) == 1)\n",
    "assert(fib_value(5) == 5)\n",
    "assert(fib_value(6) == 8)\n",
    "assert(fib_value(7) == 13)"
   ]
  },
  {
   "cell_type": "markdown",
   "metadata": {},
   "source": [
    "### Problem 5: Write a function to check if a number is a prime number"
   ]
  },
  {
   "cell_type": "code",
<<<<<<< HEAD
   "execution_count": 37,
   "metadata": {
    "collapsed": true
   },
=======
   "execution_count": null,
   "metadata": {},
>>>>>>> c1ccabadacd478c2a832b0d22e32cc83c2850868
   "outputs": [],
   "source": [
    "def is_prime(numb):\n",
    "    '''Returns True if the number is a prime number'''\n",
    "    if numb<2:\n",
    "        return False\n",
    "    elif numb ==2:\n",
    "        return True\n",
    "    else:\n",
    "        for i in range(2,numb):\n",
    "            if numb%i==0:\n",
    "                return False\n",
    "            else:\n",
    "                return True"
   ]
  },
  {
   "cell_type": "code",
<<<<<<< HEAD
   "execution_count": 38,
   "metadata": {
    "collapsed": true
   },
=======
   "execution_count": null,
   "metadata": {},
>>>>>>> c1ccabadacd478c2a832b0d22e32cc83c2850868
   "outputs": [],
   "source": [
    "# If your code is right, the following asserts would succeed. \n",
    "assert(is_prime(2) is True)\n",
    "assert(is_prime(11) is True)\n",
    "assert(is_prime(12) is False)\n",
    "assert(is_prime(13) is True)"
   ]
  },
  {
   "cell_type": "markdown",
   "metadata": {},
   "source": [
    "### Problem 6: Write a function that returns the max number in a given sequence (list)\n",
    "\n",
    "Don't use the max function\n",
    "\n",
    "* For [1, 3, 2], return 3\n",
    "* For [3, 3, 4, 5, 1], return 5\n",
    "* For [], return None"
   ]
  },
  {
   "cell_type": "code",
<<<<<<< HEAD
   "execution_count": 27,
   "metadata": {
    "collapsed": true
   },
=======
   "execution_count": null,
   "metadata": {},
>>>>>>> c1ccabadacd478c2a832b0d22e32cc83c2850868
   "outputs": [],
   "source": [
    "def find_max(seq):\n",
    "    '''Returns max value in the seq (list).  If the seq is empty, return None\n",
    "        max(N[-1],max(N[0:-1])) -->recursive\n",
    "    '''\n",
    "    if len(seq)==0:\n",
    "        return None\n",
    "    else:\n",
    "        #return max(seq)\n",
    "        print seq\n",
    "        return max(seq[-1],max(seq[0:-1]))"
   ]
  },
  {
   "cell_type": "code",
<<<<<<< HEAD
   "execution_count": 28,
   "metadata": {},
   "outputs": [
    {
     "name": "stdout",
     "output_type": "stream",
     "text": [
      "[1, 3, 2]\n",
      "[3, 3, 4, 5, 1]\n"
     ]
    }
   ],
=======
   "execution_count": null,
   "metadata": {},
   "outputs": [],
>>>>>>> c1ccabadacd478c2a832b0d22e32cc83c2850868
   "source": [
    "# If your code is right, the following asserts would succeed.\n",
    "assert(find_max([1, 3, 2]) == 3)\n",
    "assert(find_max([3, 3, 4, 5, 1]) == 5)\n",
    "assert(find_max([]) is None)"
   ]
  },
  {
   "cell_type": "markdown",
   "metadata": {},
   "source": [
    "### Problem 7: Find the most common (repeated) number in a sequence\n",
    "\n",
    "* For [1, 1, 3, 2], return 1 (most common or repeated value)\n",
    "* For [1, 2, 2, 2, 3], return 2\n",
    "* For empty list [], return None\n",
    "\n",
    "Hint: Creating a Dictionary of numbers with their counts might be useful"
   ]
  },
  {
   "cell_type": "code",
<<<<<<< HEAD
   "execution_count": 31,
   "metadata": {
    "collapsed": true
   },
=======
   "execution_count": null,
   "metadata": {},
>>>>>>> c1ccabadacd478c2a832b0d22e32cc83c2850868
   "outputs": [],
   "source": [
    "def most_common(seq):\n",
    "    '''Returns the most common number in the sequence, return None if seq is empty'''\n",
    "    word_dict={}\n",
    "    for word in seq:\n",
    "        if len(seq)==0:\n",
    "            return None\n",
    "        elif word in word_dict:\n",
    "            word_dict[word] +=1\n",
    "        else:\n",
    "            word_dict[word] =1 \n",
    "            \n",
    "    popular_words = sorted(word_dict, key = word_dict.get, reverse = True)\n",
    "    top_1 = popular_words[:1]"
   ]
  },
  {
   "cell_type": "code",
<<<<<<< HEAD
   "execution_count": 30,
   "metadata": {},
   "outputs": [
    {
     "name": "stdout",
     "output_type": "stream",
     "text": [
      "{1: 2}\n"
     ]
    },
    {
     "ename": "AssertionError",
     "evalue": "",
     "output_type": "error",
     "traceback": [
      "\u001b[1;31m---------------------------------------------------------------------------\u001b[0m",
      "\u001b[1;31mAssertionError\u001b[0m                            Traceback (most recent call last)",
      "\u001b[1;32m<ipython-input-30-5a51c7e9960d>\u001b[0m in \u001b[0;36m<module>\u001b[1;34m()\u001b[0m\n\u001b[0;32m      1\u001b[0m \u001b[1;31m# If your code is right, the following asserts would succeed.\u001b[0m\u001b[1;33m\u001b[0m\u001b[1;33m\u001b[0m\u001b[0m\n\u001b[1;32m----> 2\u001b[1;33m \u001b[1;32massert\u001b[0m\u001b[1;33m(\u001b[0m\u001b[0mmost_common\u001b[0m\u001b[1;33m(\u001b[0m\u001b[1;33m[\u001b[0m\u001b[1;36m1\u001b[0m\u001b[1;33m,\u001b[0m \u001b[1;36m1\u001b[0m\u001b[1;33m,\u001b[0m \u001b[1;36m3\u001b[0m\u001b[1;33m,\u001b[0m \u001b[1;36m2\u001b[0m\u001b[1;33m]\u001b[0m\u001b[1;33m)\u001b[0m \u001b[1;33m==\u001b[0m \u001b[1;36m1\u001b[0m\u001b[1;33m)\u001b[0m\u001b[1;33m\u001b[0m\u001b[0m\n\u001b[0m\u001b[0;32m      3\u001b[0m \u001b[1;32massert\u001b[0m\u001b[1;33m(\u001b[0m\u001b[0mmost_common\u001b[0m\u001b[1;33m(\u001b[0m\u001b[1;33m[\u001b[0m\u001b[1;36m1\u001b[0m\u001b[1;33m,\u001b[0m \u001b[1;36m2\u001b[0m\u001b[1;33m,\u001b[0m \u001b[1;36m2\u001b[0m\u001b[1;33m,\u001b[0m \u001b[1;36m2\u001b[0m\u001b[1;33m,\u001b[0m \u001b[1;36m5\u001b[0m\u001b[1;33m]\u001b[0m\u001b[1;33m)\u001b[0m \u001b[1;33m==\u001b[0m \u001b[1;36m2\u001b[0m\u001b[1;33m)\u001b[0m\u001b[1;33m\u001b[0m\u001b[0m\n\u001b[0;32m      4\u001b[0m \u001b[1;32massert\u001b[0m\u001b[1;33m(\u001b[0m\u001b[0mmost_common\u001b[0m\u001b[1;33m(\u001b[0m\u001b[1;33m[\u001b[0m\u001b[1;33m]\u001b[0m\u001b[1;33m)\u001b[0m \u001b[1;32mis\u001b[0m \u001b[0mNone\u001b[0m\u001b[1;33m)\u001b[0m\u001b[1;33m\u001b[0m\u001b[0m\n",
      "\u001b[1;31mAssertionError\u001b[0m: "
     ]
    }
   ],
=======
   "execution_count": null,
   "metadata": {},
   "outputs": [],
>>>>>>> c1ccabadacd478c2a832b0d22e32cc83c2850868
   "source": [
    "# If your code is right, the following asserts would succeed.\n",
    "assert(most_common([1, 1, 3, 2]) == 1)\n",
    "assert(most_common([1, 2, 2, 2, 5]) == 2)\n",
    "assert(most_common([]) is None)"
   ]
  },
  {
   "cell_type": "markdown",
   "metadata": {},
   "source": [
    "### Problem 8: Check if a string is a palindrome.\n",
    "\n",
    "Palindrome read the same backwards and forwards.\n",
    "\n",
    "Ref: http://en.wikipedia.org/wiki/Palindrome"
   ]
  },
  {
   "cell_type": "code",
   "execution_count": null,
<<<<<<< HEAD
   "metadata": {
    "collapsed": true
   },
=======
   "metadata": {},
>>>>>>> c1ccabadacd478c2a832b0d22e32cc83c2850868
   "outputs": [],
   "source": [
    "def is_palindrome(seq):\n",
    "    '''Returns True if seq is a palindrome else return False'''\n",
    "    pass"
   ]
  },
  {
   "cell_type": "code",
   "execution_count": null,
<<<<<<< HEAD
   "metadata": {
    "collapsed": true
   },
=======
   "metadata": {},
>>>>>>> c1ccabadacd478c2a832b0d22e32cc83c2850868
   "outputs": [],
   "source": [
    "# If your code is right, the following asserts would succeed.\n",
    "assert(is_palindrome('radar') is True)\n",
    "assert(is_palindrome('civic') is True)\n",
    "assert(is_palindrome('honda') is False)"
   ]
  },
  {
   "cell_type": "markdown",
   "metadata": {},
   "source": [
    "### Problem 9: Find the five most commonly used words in Gettysburg Address\n",
    "\n",
    "Hint: http://www.d.umn.edu/~rmaclin/gettysburg-address.html"
   ]
  },
  {
   "cell_type": "code",
<<<<<<< HEAD
   "execution_count": 41,
   "metadata": {
    "collapsed": true
   },
=======
   "execution_count": null,
   "metadata": {},
>>>>>>> c1ccabadacd478c2a832b0d22e32cc83c2850868
   "outputs": [],
   "source": [
    "# If the following import gives error, go to command prompt and run \"conda install requests\"\n",
    "import requests\n",
    "from collections import Counter\n",
    "import re\n",
    "\n",
    "url = 'http://www.d.umn.edu/~rmaclin/gettysburg-address.html'\n",
    "gettsburg = requests.get(url).text\n",
    "c= Counter(gettsburg.split())"
   ]
  },
  {
   "cell_type": "code",
<<<<<<< HEAD
   "execution_count": 44,
   "metadata": {},
   "outputs": [
    {
     "name": "stdout",
     "output_type": "stream",
     "text": [
      "(u'that', 13)\n"
     ]
    }
   ],
=======
   "execution_count": null,
   "metadata": {},
   "outputs": [],
>>>>>>> c1ccabadacd478c2a832b0d22e32cc83c2850868
   "source": [
    "# Now gettsburg has the text of Lincon's address.  Can you find the most commonly used words?\n",
    "print c.most_common()[0]"
   ]
  },
  {
   "cell_type": "markdown",
   "metadata": {},
   "source": [
    "# Problem 10: Do problem 9 excluding stop words like \"a, the, and etc.\""
   ]
  },
  {
   "cell_type": "code",
   "execution_count": 33,
   "metadata": {},
   "outputs": [
    {
     "name": "stdout",
     "output_type": "stream",
     "text": [
      "[(u'that', 13), (u'the', 11), (u'to', 8), (u'we', 8), (u'here', 8), (u'of', 7), (u'a', 7), (u'p', 6), (u'and', 6), (u'nation', 5), (u'not', 5), (u'for', 5), (u'can', 5), (u'have', 5), (u'dedicated', 4), (u'this', 4), (u'in', 4), (u'people', 3), (u'are', 3), (u'who', 3), (u'br', 3), (u'great', 3), (u'they', 3), (u'dead', 3), (u'us', 3), (u'is', 3), (u'shall', 3), (u'It', 3), (u'We', 2), (u'title', 2), (u'gave', 2), (u'far', 2), (u'our', 2), (u'living', 2), (u'new', 2), (u'body', 2), (u'be', 2), (u'men', 2), (u'on', 2), (u'or', 2), (u'h3', 2), (u'from', 2), (u'long', 2), (u'war', 2), (u'Lincoln', 2), (u'it', 2), (u'Gettysburg', 2), (u'devotion', 2), (u'head', 2), (u'dedicate', 2), (u'at', 2), (u'these', 2), (u'rather', 2), (u'field', 2), (u'html', 2), (u'which', 2), (u'conceived', 2), (u'what', 2), (u'The', 2), (u'center', 2), (u'so', 2), (u'all', 1), (u'forget', 1), (u'text', 1), (u'years', 1), (u'proposition', 1), (u'battle', 1), (u'earth', 1), (u'font', 1), (u'continent', 1), (u'ground', 1), (u'unfinished', 1), (u'should', 1), (u'add', 1), (u'black', 1), (u'advanced', 1), (u'under', 1), (u'Now', 1), (u'might', 1), (u'remaining', 1), (u'do', 1), (u'increased', 1), (u'government', 1), (u'birth', 1), (u'detract', 1), (u'altogether', 1), (u'world', 1), (u'thus', 1), (u'nor', 1), (u'resolve', 1), (u'did', 1), (u'cause', 1), (u'Four', 1), (u'whether', 1), (u'brave', 1), (u'honored', 1), (u'fathers', 1), (u'testing', 1), (u'Liberty', 1), (u'19', 1), (u'full', 1), (u'measure', 1), (u'proper', 1), (u'Adddress', 1), (u'hallow', 1), (u'score', 1), (u'above', 1), (u'before', 1), (u'forth', 1), (u'perish', 1), (u'power', 1), (u'met', 1), (u'come', 1), (u'by', 1), (u'last', 1), (u'created', 1), (u'larger', 1), (u'equal', 1), (u's', 1), (u'place', 1), (u'ago', 1), (u'civil', 1), (u'vain', 1), (u'highly', 1), (u'brought', 1), (u'consecrate', 1), (u'But', 1), (u'little', 1), (u'Courier', 1), (u'their', 1), (u'bgcolor', 1), (u'live', 1), (u'fought', 1), (u'Dedication', 1), (u'white', 1), (u'resting', 1), (u'engaged', 1), (u'but', 1), (u'1863', 1), (u'lives', 1), (u'November', 1), (u'those', 1), (u'remember', 1), (u'Text', 1), (u'work', 1), (u'say', 1), (u'final', 1), (u'will', 1), (u'endure', 1), (u'freedom', 1), (u'Delivered', 1), (u'seven', 1), (u'God', 1), (u'sense', 1), (u'Cemetery', 1), (u'as', 1), (u'any', 1), (u'note', 1), (u'fitting', 1), (u'take', 1), (u'Address', 1), (u'struggled', 1), (u'poor', 1), (u'never', 1), (u'Abraham', 1), (u'nobly', 1), (u'died', 1), (u'task', 1), (u'consecrated', 1), (u'portion', 1)]\n"
     ]
    }
   ],
   "source": [
    "#c = Counter(gettsburg)\n",
    "lst=[]\n",
    "lst = re.findall(r'\\b\\w+', gettsburg)\n",
    "#print lst\n",
    "c = Counter(lst)\n",
    "print (c.most_common()) # prints most common words staring at most common.\n"
   ]
  },
  {
   "cell_type": "code",
   "execution_count": 3,
   "metadata": {},
   "outputs": [],
   "source": [
    "'''\n",
    "REQUESTS\n",
    "'''\n",
    "\n",
    "# import module (make its functions available)\n",
    "import requests\n",
    "\n",
    "# use requests to talk to the web\n",
    "r = requests.get('http://www.google.com')\n",
    "type(r)         # special 'response' object\n",
    "r.text          # HTML of web page stored as string\n",
    "type(r.text)    # string is encoded as unicode\n",
    "r.text[0]       # string can be sliced like any string\n",
    "\n",
    "\n",
    "'''\n",
    "APIs\n",
    "\n",
    "What is an API?\n",
    "- Application Programming Interface\n",
    "- Structured way to expose specific functionality and data access to users\n",
    "- Web APIs usually follow the \"REST\" standard\n",
    "\n",
    "How to interact with a REST API:\n",
    "- Make a \"request\" to a specific URL (an \"endpoint\"), and get the data back in a \"response\"\n",
    "- Most relevant request method for us is GET (other methods: POST, PUT, DELETE)\n",
    "- Response is often JSON format\n",
    "- Web console is sometimes available (allows you to explore an API)\n",
    "\n",
    "API Providers: https://apigee.com/providers\n",
    "Echo Nest API Console: https://apigee.com/resources/nytimes\n",
    "'''\n",
    "\n",
    "# request data from the Echo Nest API\n",
    "r = requests.get('http://api.nytimes.com/svc/books/v3/lists/current/hardcover-fiction.json?api-key=d28cb3126eae332c6279f9dedf4bb830%3A10%3A64325990&format=json')\n",
    "r.text          # looks like a dictionary\n",
    "type(r.text)    # actually stored as a string\n",
    "type(r.json())  # JSON can be represented as a dictionary\n",
    "top = r.json()  # store that dictionary\n"
   ]
  },
  {
   "cell_type": "code",
   "execution_count": 5,
   "metadata": {},
   "outputs": [
    {
     "name": "stdout",
     "output_type": "stream",
     "text": [
      "[u'updated', u'display_name', u'bestsellers_date', u'published_date_description', u'list_name_encoded', u'next_published_date', u'previous_published_date', u'books', u'published_date', u'corrections', u'list_name', u'normal_list_ends_at']\n"
     ]
    }
   ],
   "source": [
    "print top['results'].keys()"
   ]
  },
  {
   "cell_type": "code",
   "execution_count": 20,
   "metadata": {},
   "outputs": [
    {
     "name": "stdout",
     "output_type": "stream",
     "text": [
      "0399181199\n"
     ]
    }
   ],
   "source": [
    "# store the book data\n",
    "books = top['results']['books']    # list of 15 dictionaries\n",
    "print ((books[0]['isbns'])[0])['isbn10'] #traverse at deeply nested item in the json file"
   ]
  },
  {
   "cell_type": "code",
   "execution_count": 8,
   "metadata": {},
   "outputs": [
    {
     "name": "stdout",
     "output_type": "stream",
     "text": [
      "[u'ANY DREAM WILL DO', u'CAMINO ISLAND', u'THE LATE SHOW', u'THE LYING GAME', u'BARELY LEGAL', u'THE LAST TUDOR', u'THE GOOD DAUGHTER', u'A GENTLEMAN IN MOSCOW', u'HOUSE OF SPIES', u'INTO THE WATER', u'MRS. FLETCHER', u'BEFORE WE WERE YOURS', u'PARADISE VALLEY', u'THE PARIS SPY', u'CRIME SCENE']\n"
     ]
    }
   ],
   "source": [
    "# create a list of book titles only\n",
    "titles = [book['title'] for book in books]  # can iterate through list to access dictionaries\n",
    "print titles"
   ]
  },
  {
   "cell_type": "code",
   "execution_count": null,
<<<<<<< HEAD
   "metadata": {
    "collapsed": true
   },
=======
   "metadata": {},
>>>>>>> c1ccabadacd478c2a832b0d22e32cc83c2850868
   "outputs": [],
   "source": []
  }
 ],
 "metadata": {
  "kernelspec": {
   "display_name": "Python 2",
   "language": "python",
   "name": "python2"
  },
  "language_info": {
   "codemirror_mode": {
    "name": "ipython",
    "version": 2
   },
   "file_extension": ".py",
   "mimetype": "text/x-python",
   "name": "python",
   "nbconvert_exporter": "python",
   "pygments_lexer": "ipython2",
   "version": "2.7.13"
  }
 },
 "nbformat": 4,
 "nbformat_minor": 1
}
